{
 "cells": [
  {
   "cell_type": "markdown",
   "id": "9ab0681f",
   "metadata": {},
   "source": [
    "# Class"
   ]
  },
  {
   "cell_type": "code",
   "execution_count": 7,
   "id": "f4fe6ff5",
   "metadata": {},
   "outputs": [
    {
     "name": "stdout",
     "output_type": "stream",
     "text": [
      "The breed of the Dog is Maltesse while His size is Medium\n",
      "The Dog breed Maltesse eats Meat\n"
     ]
    }
   ],
   "source": [
    "#classes are blueprints for creating object\n",
    "#They make programming easier\n",
    "#a class contain attributes(object) and functions which defines what it does\n",
    "#example\n",
    "\n",
    "class Dog():\n",
    "    def __init__(self, breed, size): #use to define the attributes(object)\n",
    "        self.breed = breed  #self is used to define the keys af the object\n",
    "        self.size = size\n",
    "        print('The breed of the Dog is {} while His size is {}'.format(breed, size))\n",
    "    def eat(self, food): #the attributes which are called method must contain self as argument so as to have access to the attributes\n",
    "        print('The Dog breed {} eats {}'.format(self.breed, food))\n",
    "    def sleep(self, sleep_time):\n",
    "        print('The Dog breed {} sleeps at {}'.format(self.breed, sleep_time))\n",
    "\n",
    "dog = Dog('Maltesse', 'Medium')\n",
    "dog.eat('Meat')"
   ]
  }
 ],
 "metadata": {
  "kernelspec": {
   "display_name": "Python 3",
   "language": "python",
   "name": "python3"
  },
  "language_info": {
   "codemirror_mode": {
    "name": "ipython",
    "version": 3
   },
   "file_extension": ".py",
   "mimetype": "text/x-python",
   "name": "python",
   "nbconvert_exporter": "python",
   "pygments_lexer": "ipython3",
   "version": "3.13.1"
  }
 },
 "nbformat": 4,
 "nbformat_minor": 5
}
