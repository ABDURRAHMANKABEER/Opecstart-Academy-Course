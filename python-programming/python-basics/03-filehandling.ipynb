{
 "cells": [
  {
   "cell_type": "markdown",
   "id": "3be3edfc",
   "metadata": {},
   "source": [
    "# File Handling"
   ]
  },
  {
   "cell_type": "code",
   "execution_count": 49,
   "id": "1f4e1d51",
   "metadata": {},
   "outputs": [
    {
     "name": "stdout",
     "output_type": "stream",
     "text": [
      "U19EE1099 20 40 60\n",
      "U14CO2034 20 45 65\n",
      "U17MN1077 35 45 80\n",
      "U15ME1034 35 40 75\n",
      "U16GT1007 20 50 70\n"
     ]
    }
   ],
   "source": [
    "#to read or write file, we first open it and use the second argument to indicate what we need\n",
    "\n",
    "file = open('./text_files/students.txt', 'r')\n",
    "a = file.read()\n",
    "print(a)"
   ]
  },
  {
   "cell_type": "code",
   "execution_count": 50,
   "id": "4e73e7dd",
   "metadata": {},
   "outputs": [
    {
     "name": "stdout",
     "output_type": "stream",
     "text": [
      "['U19EE1099 20 40 60', 'U14CO2034 20 45 65', 'U17MN1077 35 45 80', 'U15ME1034 35 40 75', 'U16GT1007 20 50 70']\n"
     ]
    }
   ],
   "source": [
    "#spliting\n",
    "split_student = a.split('\\n')\n",
    "print(split_student)"
   ]
  },
  {
   "cell_type": "code",
   "execution_count": 51,
   "id": "0cbfc8a4",
   "metadata": {},
   "outputs": [
    {
     "name": "stdout",
     "output_type": "stream",
     "text": [
      "U19EE1099 20 40 60 Student Failed!!\n",
      "U14CO2034 20 45 65 Student Failed!!\n",
      "U17MN1077 35 45 80 Student passed!!\n",
      "U15ME1034 35 40 75 Student passed!!\n",
      "U16GT1007 20 50 70 Student Failed!!\n",
      "\n"
     ]
    }
   ],
   "source": [
    "#calculating the average of each student\n",
    "students = ''\n",
    "for student_record in split_student:\n",
    "    student_array = student_record.split(' ')\n",
    "    sum = int(student_array[1]) + int(student_array[2]) + int(student_array[3])\n",
    "    avg = sum/3\n",
    "    if avg >= 50:\n",
    "        result = 'Student passed!!'\n",
    "        student_array.append(result)\n",
    "    else:\n",
    "        result = 'Student Failed!!'\n",
    "        student_array.append(result)\n",
    "    student = ' '.join(student_array)\n",
    "    students += student + '\\n'\n",
    "    \n",
    "\n",
    "print(students)\n",
    "    "
   ]
  }
 ],
 "metadata": {
  "kernelspec": {
   "display_name": "Python 3",
   "language": "python",
   "name": "python3"
  },
  "language_info": {
   "codemirror_mode": {
    "name": "ipython",
    "version": 3
   },
   "file_extension": ".py",
   "mimetype": "text/x-python",
   "name": "python",
   "nbconvert_exporter": "python",
   "pygments_lexer": "ipython3",
   "version": "3.13.1"
  }
 },
 "nbformat": 4,
 "nbformat_minor": 5
}
