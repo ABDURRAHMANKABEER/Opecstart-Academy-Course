{
 "cells": [
  {
   "cell_type": "markdown",
   "id": "31e8b543",
   "metadata": {},
   "source": [
    "# Fundermentals of python"
   ]
  },
  {
   "cell_type": "code",
   "execution_count": 5,
   "id": "14d24f49",
   "metadata": {},
   "outputs": [
    {
     "name": "stdout",
     "output_type": "stream",
     "text": [
      "Hello World\n"
     ]
    }
   ],
   "source": [
    "print('Hello World')"
   ]
  },
  {
   "cell_type": "markdown",
   "id": "485ad01a",
   "metadata": {},
   "source": [
    "# Variable Types"
   ]
  },
  {
   "cell_type": "code",
   "execution_count": null,
   "id": "00362f9b",
   "metadata": {},
   "outputs": [
    {
     "name": "stdout",
     "output_type": "stream",
     "text": [
      "Hello, John Doe. You are Thirty years old.\n"
     ]
    }
   ],
   "source": [
    "#String\n",
    "#quotation marks are used to define strings\n",
    "#either single or double quotes can be used\n",
    "name = 'John Doe'\n",
    "age = \"Thirty\"\n",
    "print(f'Hello, {name}. You are {age} years old.')"
   ]
  },
  {
   "cell_type": "code",
   "execution_count": 9,
   "id": "51fd977d",
   "metadata": {},
   "outputs": [
    {
     "name": "stdout",
     "output_type": "stream",
     "text": [
      "Hello, John Doe. You are 30 years old. In 2025, you will be 30 years old.\n"
     ]
    }
   ],
   "source": [
    "#integer\n",
    "#integers are whole numbers. e.g. 1, 2, 3\n",
    "\n",
    "age = 30\n",
    "year = 2025\n",
    "print(f'Hello, {name}. You are {age} years old. In {year}, you will be {age + (year - 2025)} years old.')"
   ]
  },
  {
   "cell_type": "code",
   "execution_count": null,
   "id": "be5db5f5",
   "metadata": {},
   "outputs": [],
   "source": [
    "#casting\n",
    "#casting is the process of converting a variable from one type to another\n",
    "#e.g. converting a string to an integer\n",
    "age = '30'\n",
    "age = int(age)\n"
   ]
  },
  {
   "cell_type": "code",
   "execution_count": 10,
   "id": "9c710aa3",
   "metadata": {},
   "outputs": [
    {
     "name": "stdout",
     "output_type": "stream",
     "text": [
      "['apple', 'banana', 'cherry']\n"
     ]
    }
   ],
   "source": [
    "#list\n",
    "#lists are used to store multiple items in a single variable\n",
    "#lists are created using square brackets []\n",
    "fruits = ['apple', 'banana', 'cherry']\n",
    "print(fruits)"
   ]
  },
  {
   "cell_type": "code",
   "execution_count": 11,
   "id": "ff6597d9",
   "metadata": {},
   "outputs": [
    {
     "name": "stdout",
     "output_type": "stream",
     "text": [
      "Is John Doe an adult? True\n"
     ]
    }
   ],
   "source": [
    "#boolean\n",
    "#boolean is a data type that can have one of two values: True or False\n",
    "is_adult = True\n",
    "is_student = False\n",
    "print(f'Is {name} an adult? {is_adult}')"
   ]
  },
  {
   "cell_type": "code",
   "execution_count": 16,
   "id": "547fc543",
   "metadata": {},
   "outputs": [
    {
     "name": "stdout",
     "output_type": "stream",
     "text": [
      "J\n",
      "John\n",
      "Doe\n",
      "John Doe\n",
      "e\n",
      "e\n"
     ]
    }
   ],
   "source": [
    "#accessing strings\n",
    "#strings are indexed starting from 0\n",
    "#e.g. the first character of a string is at index 0\n",
    "name = 'John Doe'\n",
    "print(name[0])  # prints 'J'\n",
    "print(name[:4])  # prints 'John'\n",
    "print(name[5:])  # prints 'Doe'\n",
    "print(name[:])  # prints 'everything'\n",
    "print(name[-1])  # prints 'e'\n",
    "print('Hello'[1])  "
   ]
  },
  {
   "cell_type": "code",
   "execution_count": null,
   "id": "34eb1e71",
   "metadata": {},
   "outputs": [
    {
     "name": "stdout",
     "output_type": "stream",
     "text": [
      "Hello World\n",
      "apple, banana, cherry\n"
     ]
    }
   ],
   "source": [
    "#concatenation\n",
    "#concatenation is the process of joining two or more strings together\n",
    "#e.g. using the + operator\n",
    "print('Hello' + ' ' + 'World')  # prints 'Hello World'\n",
    "#string methods\n",
    "#string methods are functions that can be used to manipulate strings\n",
    "#length\n",
    "#len() is used to get the length of a string\n",
    "#other methods include:\n",
    "#upper() - converts a string to uppercase\n",
    "#lower() - converts a string to lowercase\n",
    "#strip() - removes whitespace from the beginning and end of a string\n",
    "#replace() - replaces a string with another string\n",
    "#split() - splits a string into a list\n",
    "#join() - joins a list into a string\n",
    "#formatting\n",
    "#f-strings - used to format strings\n",
    "\n",
    "list = ['apple', 'banana', 'cherry']\n",
    "joined = ', '.join(list)\n",
    "print(joined)  # prints 'apple, banana, cherry'"
   ]
  }
 ],
 "metadata": {
  "kernelspec": {
   "display_name": "Python 3",
   "language": "python",
   "name": "python3"
  },
  "language_info": {
   "codemirror_mode": {
    "name": "ipython",
    "version": 3
   },
   "file_extension": ".py",
   "mimetype": "text/x-python",
   "name": "python",
   "nbconvert_exporter": "python",
   "pygments_lexer": "ipython3",
   "version": "3.13.1"
  }
 },
 "nbformat": 4,
 "nbformat_minor": 5
}
