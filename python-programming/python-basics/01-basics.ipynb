{
 "cells": [
  {
   "cell_type": "markdown",
   "id": "31e8b543",
   "metadata": {},
   "source": [
    "# Fundermentals of python"
   ]
  },
  {
   "cell_type": "code",
   "execution_count": 5,
   "id": "14d24f49",
   "metadata": {},
   "outputs": [
    {
     "name": "stdout",
     "output_type": "stream",
     "text": [
      "Hello World\n"
     ]
    }
   ],
   "source": [
    "print('Hello World')"
   ]
  },
  {
   "cell_type": "markdown",
   "id": "485ad01a",
   "metadata": {},
   "source": [
    "# Variable Types"
   ]
  },
  {
   "cell_type": "code",
   "execution_count": null,
   "id": "00362f9b",
   "metadata": {},
   "outputs": [
    {
     "name": "stdout",
     "output_type": "stream",
     "text": [
      "Hello, John Doe. You are Thirty years old.\n"
     ]
    }
   ],
   "source": [
    "#String\n",
    "#quotation marks are used to define strings\n",
    "#either single or double quotes can be used\n",
    "name = 'John Doe'\n",
    "age = \"Thirty\"\n",
    "print(f'Hello, {name}. You are {age} years old.')"
   ]
  },
  {
   "cell_type": "code",
   "execution_count": 9,
   "id": "51fd977d",
   "metadata": {},
   "outputs": [
    {
     "name": "stdout",
     "output_type": "stream",
     "text": [
      "Hello, John Doe. You are 30 years old. In 2025, you will be 30 years old.\n"
     ]
    }
   ],
   "source": [
    "#integer\n",
    "#integers are whole numbers. e.g. 1, 2, 3\n",
    "\n",
    "age = 30\n",
    "year = 2025\n",
    "print(f'Hello, {name}. You are {age} years old. In {year}, you will be {age + (year - 2025)} years old.')"
   ]
  },
  {
   "cell_type": "code",
   "execution_count": null,
   "id": "be5db5f5",
   "metadata": {},
   "outputs": [],
   "source": [
    "#casting\n",
    "#casting is the process of converting a variable from one type to another\n",
    "#e.g. converting a string to an integer\n",
    "age = '30'\n",
    "age = int(age)\n"
   ]
  },
  {
   "cell_type": "code",
   "execution_count": 10,
   "id": "9c710aa3",
   "metadata": {},
   "outputs": [
    {
     "name": "stdout",
     "output_type": "stream",
     "text": [
      "['apple', 'banana', 'cherry']\n"
     ]
    }
   ],
   "source": [
    "#list\n",
    "#lists are used to store multiple items in a single variable\n",
    "#lists are created using square brackets []\n",
    "fruits = ['apple', 'banana', 'cherry']\n",
    "print(fruits)"
   ]
  },
  {
   "cell_type": "code",
   "execution_count": 11,
   "id": "ff6597d9",
   "metadata": {},
   "outputs": [
    {
     "name": "stdout",
     "output_type": "stream",
     "text": [
      "Is John Doe an adult? True\n"
     ]
    }
   ],
   "source": [
    "#boolean\n",
    "#boolean is a data type that can have one of two values: True or False\n",
    "is_adult = True\n",
    "is_student = False\n",
    "print(f'Is {name} an adult? {is_adult}')"
   ]
  },
  {
   "cell_type": "code",
   "execution_count": 16,
   "id": "547fc543",
   "metadata": {},
   "outputs": [
    {
     "name": "stdout",
     "output_type": "stream",
     "text": [
      "J\n",
      "John\n",
      "Doe\n",
      "John Doe\n",
      "e\n",
      "e\n"
     ]
    }
   ],
   "source": [
    "#accessing strings\n",
    "#strings are indexed starting from 0\n",
    "#e.g. the first character of a string is at index 0\n",
    "name = 'John Doe'\n",
    "print(name[0])  # prints 'J'\n",
    "print(name[:4])  # prints 'John'\n",
    "print(name[5:])  # prints 'Doe'\n",
    "print(name[:])  # prints 'everything'\n",
    "print(name[-1])  # prints 'e'\n",
    "print('Hello'[1])  "
   ]
  },
  {
   "cell_type": "code",
   "execution_count": null,
   "id": "34eb1e71",
   "metadata": {},
   "outputs": [
    {
     "name": "stdout",
     "output_type": "stream",
     "text": [
      "Hello World\n",
      "apple, banana, cherry\n"
     ]
    }
   ],
   "source": [
    "#concatenation\n",
    "#concatenation is the process of joining two or more strings together\n",
    "#e.g. using the + operator\n",
    "print('Hello' + ' ' + 'World')  # prints 'Hello World'\n",
    "#string methods\n",
    "#string methods are functions that can be used to manipulate strings\n",
    "#length\n",
    "#len() is used to get the length of a string\n",
    "#other methods include:\n",
    "#upper() - converts a string to uppercase\n",
    "#lower() - converts a string to lowercase\n",
    "#strip() - removes whitespace from the beginning and end of a string\n",
    "#replace() - replaces a string with another string\n",
    "#split() - splits a string into a list\n",
    "#join() - joins a list into a string\n",
    "#formatting\n",
    "#f-strings - used to format strings\n",
    "\n",
    "list = ['apple', 'banana', 'cherry']\n",
    "joined = ', '.join(list)\n",
    "print(joined)  # prints 'apple, banana, cherry'"
   ]
  },
  {
   "cell_type": "code",
   "execution_count": null,
   "id": "fcf0d487",
   "metadata": {},
   "outputs": [],
   "source": [
    "#list\n",
    "#lists are used to store multiple items in a single variable\n",
    "#lists are created using square brackets []\n",
    "#lists can contain different data types\n",
    "#e.g. strings, integers, booleans, etc.\n",
    "#lists are ordered, changeable, and allow duplicate values  \n",
    "#e.g.\n",
    "a = ['apple', 'banana', 'cherry']\n",
    "\n",
    "#list methods\n",
    "#append() - adds an item to the end of the list\n",
    "#extend() - adds multiple items to the end of the list\n",
    "#insert() - adds an item at a specified index\n",
    "#remove() - removes an item from the list\n",
    "#pop() - removes an item at a specified index"
   ]
  },
  {
   "cell_type": "code",
   "execution_count": 2,
   "id": "d4f18635",
   "metadata": {},
   "outputs": [
    {
     "name": "stdout",
     "output_type": "stream",
     "text": [
      "John Doe\n",
      "{'name': 'John Doe', 'age': 30, 'is_student': False, 'address': '123 Main St'}\n",
      "{'name': 'John Doe', 'age': 30, 'is_student': False, 'address': '123 Main St', 'phone': '555-555-5555'}\n",
      "{'name': 'John Doe', 'age': 30, 'is_student': False, 'phone': '555-555-5555'}\n"
     ]
    }
   ],
   "source": [
    "#dictionaries\n",
    "#dictionaries are used to store data values in key:value pairs\n",
    "#dictionaries are created using curly braces {}\n",
    "#dictionaries are unordered, changeable, and do not allow duplicate keys\n",
    "#e.g.\n",
    "person = {\n",
    "    'name': 'John Doe',\n",
    "    'age': 30,\n",
    "    'is_student': False\n",
    "}\n",
    "#accessing dictionary values\n",
    "print(person['name'])  # prints 'John Doe'\n",
    "#dictionary methods\n",
    "#keys() - returns a list of all the keys in the dictionary\n",
    "#values() - returns a list of all the values in the dictionary\n",
    "#items() - returns a list of all the key:value pairs in the dictionary\n",
    "#to add a new key:value pair to a dictionary, we can use the following syntax:\n",
    "person['address'] = '123 Main St'\n",
    "print(person)  # prints {'name': 'John Doe', 'age': 30, 'is_student': False, 'address': '123 Main St'}\n",
    "#or we can use the update() method:\n",
    "person.update({'phone': '555-555-5555'})\n",
    "print(person)  # prints {'name': 'John Doe', 'age': 30, 'is_student': False, 'address': '123 Main St', 'phone': '555-555-5555'}\n",
    "#to remove a key:value pair from a dictionary, we can use the following syntax:\n",
    "del person['address']\n",
    "print(person)  # prints {'name': 'John Doe', 'age': 30, 'is_student': False, 'phone': '555-555-5555'}"
   ]
  }
 ],
 "metadata": {
  "kernelspec": {
   "display_name": "Python 3",
   "language": "python",
   "name": "python3"
  },
  "language_info": {
   "codemirror_mode": {
    "name": "ipython",
    "version": 3
   },
   "file_extension": ".py",
   "mimetype": "text/x-python",
   "name": "python",
   "nbconvert_exporter": "python",
   "pygments_lexer": "ipython3",
   "version": "3.13.1"
  }
 },
 "nbformat": 4,
 "nbformat_minor": 5
}
