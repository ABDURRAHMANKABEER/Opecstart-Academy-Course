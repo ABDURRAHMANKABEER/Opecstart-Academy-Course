{
 "cells": [
  {
   "cell_type": "code",
   "execution_count": 64,
   "id": "b42e5f74",
   "metadata": {},
   "outputs": [],
   "source": [
    "#class for students\n",
    "class Students():\n",
    "    def __init__(self, name, id, cgpa):\n",
    "        self.name = name\n",
    "        self.id = id\n",
    "        self.cgpa = cgpa"
   ]
  },
  {
   "cell_type": "code",
   "execution_count": 65,
   "id": "a6f2c96c",
   "metadata": {},
   "outputs": [
    {
     "name": "stdout",
     "output_type": "stream",
     "text": [
      "Student successfully added\n",
      "Student successfully added\n",
      "Name: Ismail\n",
      "ID: U12\n",
      "CGPA: 3.12\n"
     ]
    }
   ],
   "source": [
    "#class that manages every students affairs\n",
    "class Students_Management():\n",
    "    def __init__(self):\n",
    "        self.students = []\n",
    "\n",
    "    def add_students(self, name, id, cgpa):\n",
    "        self.students.append(Students(name, id, cgpa))\n",
    "        print('Student successfully added')\n",
    "        \n",
    "    def remove_student(self, name):\n",
    "        for student in self.students:\n",
    "           if student.name.lower() == name.lower():\n",
    "                self.students.remove(student)\n",
    "                print('Student successfully removed')\n",
    "                break\n",
    "           \n",
    "    def update_student_record(self, name, id, cgpa):\n",
    "        for student in self.students:\n",
    "            if student.name.lower() == name.lower():\n",
    "                student.id = id\n",
    "                student.cgpa = cgpa\n",
    "                print('Student record updated successfully')\n",
    "    \n",
    "    def search_student(self, name):\n",
    "        for student in self.students:\n",
    "            if student.name.lower() == name.lower():\n",
    "                print('Name: {}\\nID: {}\\nCGPA: {}'.format(student.name, student.id, student.cgpa))\n",
    "\n",
    "students_management = Students_Management()\n",
    "students_management.add_students('Ismail', 'U12', 3.12)\n",
    "students_management.add_students('Ishaq', 'U13', 3.50)\n",
    "\n",
    "students_management.search_student('Ismail')"
   ]
  }
 ],
 "metadata": {
  "kernelspec": {
   "display_name": "Python 3",
   "language": "python",
   "name": "python3"
  },
  "language_info": {
   "codemirror_mode": {
    "name": "ipython",
    "version": 3
   },
   "file_extension": ".py",
   "mimetype": "text/x-python",
   "name": "python",
   "nbconvert_exporter": "python",
   "pygments_lexer": "ipython3",
   "version": "3.13.1"
  }
 },
 "nbformat": 4,
 "nbformat_minor": 5
}
